{
  "cells": [
    {
      "cell_type": "markdown",
      "metadata": {
        "id": "-ZHVRHMui18N"
      },
      "source": [
        "# Data comprehension\n",
        "Practice working with list comprehension, dictionary comprehension and set comprehension following Lec 11"
      ]
    },
    {
      "cell_type": "markdown",
      "metadata": {
        "id": "INt5QZg_yTgG"
      },
      "source": [
        "**Ques 1:**\n",
        "You are given the list below, make column 0(the words) the key for a dictionary with the values as the rest of the list.\n",
        "\n",
        "```\n",
        "list_pos = [\n",
        "    ['drawer', 141, 2, 3],\n",
        "    ['hedge', 213, 1, 6],\n",
        "    ['pantry', 328, 1, 7]\n",
        "]\n",
        "\n",
        "list_pos\n",
        "\n",
        "# You output should be:\n",
        "\n",
        "{'drawer': [141, 2, 3], 'hedge': [213, 1, 6], 'pantry': [328, 1, 7]}\n",
        "\n",
        "```\n",
        "\n",
        "Requirement: Do both traditional loops and list comprehensions.\n"
      ]
    },
    {
      "cell_type": "code",
      "execution_count": 2,
      "metadata": {
        "colab": {
          "base_uri": "https://localhost:8080/"
        },
        "id": "dX7uE78eyTgD",
        "outputId": "e1c18986-5c9f-4fa4-8206-4c57d9e8b361"
      },
      "outputs": [
        {
          "name": "stdout",
          "output_type": "stream",
          "text": [
            "{'drawer': [141, 2, 3], 'hedge': [213, 1, 6], 'pantry': [328, 1, 7]}\n",
            "{'drawer': [141, 2, 3], 'hedge': [213, 1, 6], 'pantry': [328, 1, 7]}\n"
          ]
        }
      ],
      "source": [
        "#postion of a word in a dictionary\n",
        "list_pos = [\n",
        "    ['drawer', 141, 2, 3],\n",
        "    ['hedge', 213, 1, 6],\n",
        "    ['pantry', 328, 1, 7]\n",
        "]\n",
        "\n",
        "# Using a regular for loop\n",
        "\n",
        "word_positions = {}\n",
        "\n",
        "for i in list_pos:\n",
        "    key = i[0]\n",
        "    value = i[1:]\n",
        "    word_positions[key] = value\n",
        "\n",
        "print(word_positions)\n",
        "\n",
        "wp = {i[0]: i[1:] for i in list_pos}\n",
        "\n",
        "print(wp)"
      ]
    },
    {
      "cell_type": "markdown",
      "metadata": {
        "id": "kPV7FgpUHdt-"
      },
      "source": [
        "**Ques 2:** You are given the dictionary below, combine the keys(the words) and the values inside the dictionary and create a list.\n",
        "\n",
        "You output should be:\n",
        "\n",
        "\n",
        "\n",
        "```\n",
        "dictionary_pos = {\n",
        "    'drawer': [141, 2, 3],\n",
        "    'hedge': [213, 1, 6],\n",
        "    'pantry': [328, 1, 7]\n",
        "}\n",
        "\n",
        "dictionary_pos\n",
        "\n",
        "# Your output should:\n",
        "\n",
        "[['drawer', 141, 2, 3], ['hedge', 213, 1, 6], ['pantry', 328, 1, 7]]\n",
        "```\n",
        "\n",
        "Requirement: Do both traditional loops and list comprehensions."
      ]
    },
    {
      "cell_type": "code",
      "execution_count": 14,
      "metadata": {
        "colab": {
          "base_uri": "https://localhost:8080/"
        },
        "id": "VL-scbyryTgJ",
        "outputId": "70a7b178-3862-4d17-b7cf-8210838567da"
      },
      "outputs": [
        {
          "name": "stdout",
          "output_type": "stream",
          "text": [
            "[['drawer', 141, 2, 3], ['hedge', 213, 1, 6], ['pantry', 328, 1, 7]]\n"
          ]
        },
        {
          "data": {
            "text/plain": [
              "[['drawer', 141, 2, 3], ['hedge', 213, 1, 6], ['pantry', 328, 1, 7]]"
            ]
          },
          "execution_count": 14,
          "metadata": {},
          "output_type": "execute_result"
        }
      ],
      "source": [
        "#Your turn:\n",
        "#postion of a word in a dictionary\n",
        "dictionary_pos = {\n",
        "    'drawer': [141, 2, 3],\n",
        "    'hedge': [213, 1, 6],\n",
        "    'pantry': [328, 1, 7]\n",
        "}\n",
        "\n",
        "dictionary_pos\n",
        "\n",
        "#Empty list to hold lists of dictionary values\n",
        "listify = []\n",
        "\n",
        "#Looping through items in dictionary and append key + values to individual new lists\n",
        "for key, value in dictionary_pos.items():\n",
        "    listify.append([key]+value)\n",
        "print(listify)\n",
        "\n",
        "listify_comp = [[key] + value for key, value in dictionary_pos.items()]\n",
        "listify_comp\n"
      ]
    },
    {
      "cell_type": "markdown",
      "metadata": {
        "id": "cvER6YXv4Id5"
      },
      "source": [
        "**Ques 3:** Use list comprehension to rewrite the code, it can be done in one line (and you do not even need an if statement)\n",
        "\n",
        "```\n",
        "result = []\n",
        "myList = list(range(0, 13))\n",
        "for i in range(6, len(myList)):\n",
        "    if i%2 == 0:\n",
        "        result.append(i)\n",
        "\n",
        "result\n",
        "```\n",
        "\n"
      ]
    },
    {
      "cell_type": "code",
      "execution_count": 23,
      "metadata": {
        "colab": {
          "base_uri": "https://localhost:8080/"
        },
        "id": "HGOnba_myTgM",
        "outputId": "b2981e7e-3b4d-4172-8435-8d43353a3cf2"
      },
      "outputs": [
        {
          "name": "stdout",
          "output_type": "stream",
          "text": [
            "[6, 8, 10, 12]\n"
          ]
        },
        {
          "data": {
            "text/plain": [
              "[6, 8, 10, 12]"
            ]
          },
          "execution_count": 23,
          "metadata": {},
          "output_type": "execute_result"
        }
      ],
      "source": [
        "result =[]\n",
        "myList = list(range(0,13))\n",
        "for i in range(6, len(myList)):\n",
        "    if i%2 == 0:\n",
        "        result.append(i)\n",
        "print(result)\n",
        "\n",
        "myList2 = list(range(0, 13))\n",
        "result2 = [i for i in range(6, len(myList2), 2)]\n",
        "result2"
      ]
    },
    {
      "cell_type": "markdown",
      "metadata": {
        "id": "H7IAbiwH4i-D"
      },
      "source": [
        "**Ques 4a:** Use the following code to perform the tasks given below:\n",
        "\n",
        "\n",
        "\n",
        "```\n",
        "set_a = {1, 2, 3, \"a\", \"b\", \"c\"}\n",
        "set_b = {2, 3, 4, \"c\", \"d\"}\n",
        "set_c = {2, 3, 'd', \"t\", \"a\"}\n",
        "```\n",
        "\n"
      ]
    },
    {
      "cell_type": "code",
      "execution_count": 26,
      "metadata": {
        "colab": {
          "base_uri": "https://localhost:8080/"
        },
        "id": "CvrNavspyTgN",
        "outputId": "131e8ea4-f3b8-453c-8b61-5949e463d3e3"
      },
      "outputs": [
        {
          "name": "stdout",
          "output_type": "stream",
          "text": [
            "{1, 4, 'd', 'b', 'a'}\n"
          ]
        }
      ],
      "source": [
        "# The follow code is supposed to return the different elements in both sets of union_ab and set_a but not both of them.\n",
        "\n",
        "set_a = {1,2,3,\"a\", \"b\",\"c\"}\n",
        "set_b ={2,3,4,\"c\",\"d\"}\n",
        "\n",
        "print(set_a.symmetric_difference(set_b))"
      ]
    },
    {
      "cell_type": "code",
      "execution_count": 25,
      "metadata": {
        "colab": {
          "base_uri": "https://localhost:8080/"
        },
        "id": "iL4GrbZknT_y",
        "outputId": "4c2e884b-de6c-4295-cae2-9b5bb4c54ff0"
      },
      "outputs": [
        {
          "name": "stdout",
          "output_type": "stream",
          "text": [
            "{'d', 't'}\n"
          ]
        }
      ],
      "source": [
        "# Elements that occur just in set c and not in set a\n",
        "\n",
        "set_a = {1,2,3,\"a\", \"b\",\"c\"}\n",
        "set_b ={2,3,4,\"c\",\"d\"}\n",
        "set_c ={2,3,\"d\",\"t\",\"a\"}\n",
        "\n",
        "print(set_c.difference(set_a))"
      ]
    },
    {
      "cell_type": "markdown",
      "metadata": {
        "id": "E7LmZQwT5Mhr"
      },
      "source": [
        "**Ques 4b:** This piece of code will work the same as which of the following options:\n",
        "\n",
        "\n",
        "```\n",
        "difference_A = []\n",
        "for a in set_c:\n",
        "  if(not(a in set_a)):\n",
        "    difference_A.append(a)\n",
        "\n",
        "print(difference_A)\n",
        "```\n",
        "\n"
      ]
    },
    {
      "cell_type": "code",
      "execution_count": null,
      "metadata": {
        "colab": {
          "base_uri": "https://localhost:8080/"
        },
        "id": "FvUCzqZuyTgN",
        "outputId": "63aff495-adfe-4d78-8a7d-44b834723e08"
      },
      "outputs": [],
      "source": [
        "#Rewrite the code:\n",
        "\n",
        "set_a = {1,2,3,\"a\", \"b\",\"c\"}\n",
        "set_b ={2,3,4,\"c\",\"d\"}\n",
        "set_c ={2,3,\"d\",\"t\",\"a\"}\n",
        "\n",
        "# None of the options below seem to reference set_c, but if option #C said \"union_ac ^ set_a\" that would be my answer\n",
        "\n",
        "#A) difference = union_ab | set_a\n",
        "\n",
        "#B) difference = set_a - union_ab\n",
        "\n",
        "#C) difference = union_ab ^ set_a\n",
        "\n",
        "\n"
      ]
    },
    {
      "cell_type": "markdown",
      "metadata": {
        "id": "i1TTuNdgyTgO"
      },
      "source": [
        "**Ques 5:** A procedural function called GC_content(data).\n",
        "Find the GC percentage for each of the elements in dna_list.\n",
        "data is the list, dna_list."
      ]
    },
    {
      "cell_type": "code",
      "execution_count": null,
      "metadata": {
        "colab": {
          "base_uri": "https://localhost:8080/"
        },
        "id": "awvBHjfFyTgO",
        "outputId": "a0b9fdb3-a99d-44c6-b50a-7d13b70a0dd3"
      },
      "outputs": [],
      "source": [
        "dna_list = ['GAAGTC', 'CGATATGC', 'GTCA', 'CGGACAGTAG']\n"
      ]
    },
    {
      "cell_type": "code",
      "execution_count": 32,
      "metadata": {
        "colab": {
          "base_uri": "https://localhost:8080/"
        },
        "id": "NL90n2TOyTgO",
        "outputId": "0da6614d-6964-493b-b642-f15bfb083881"
      },
      "outputs": [
        {
          "name": "stdout",
          "output_type": "stream",
          "text": [
            "The GC content of the sequence GAAGTC is 50.0%\n",
            "The GC content of the sequence CGATATGC is 50.0%\n",
            "The GC content of the sequence GTCA is 50.0%\n",
            "The GC content of the sequence CGGACAGTAG is 60.0%\n"
          ]
        }
      ],
      "source": [
        "#def GC_content(data):\n",
        "    #Your Code:\n",
        "\n",
        "def gc_content(seq_list):\n",
        "    for seq in seq_list:\n",
        "        gc_count = seq.count('G') + seq.count('C')\n",
        "        gc_percent = gc_count / len(seq)*100\n",
        "        print(f\"The GC content of the sequence {seq} is {gc_percent}%\")\n",
        "gc_content(dna_list)"
      ]
    }
  ],
  "metadata": {
    "colab": {
      "provenance": []
    },
    "hide_input": false,
    "kernelspec": {
      "display_name": "venv",
      "language": "python",
      "name": "python3"
    },
    "language_info": {
      "codemirror_mode": {
        "name": "ipython",
        "version": 3
      },
      "file_extension": ".py",
      "mimetype": "text/x-python",
      "name": "python",
      "nbconvert_exporter": "python",
      "pygments_lexer": "ipython3",
      "version": "3.12.5"
    },
    "toc": {
      "base_numbering": 1,
      "nav_menu": {},
      "number_sections": true,
      "sideBar": true,
      "skip_h1_title": false,
      "title_cell": "Table of Contents",
      "title_sidebar": "Contents",
      "toc_cell": false,
      "toc_position": {},
      "toc_section_display": true,
      "toc_window_display": false
    }
  },
  "nbformat": 4,
  "nbformat_minor": 0
}
