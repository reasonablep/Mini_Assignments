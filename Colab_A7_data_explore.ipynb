{
  "cells": [
    {
      "cell_type": "markdown",
      "metadata": {
        "id": "XXueMou6e2fW"
      },
      "source": [
        "# Data Exploration with Pandas\n",
        "<table><tr><td>\n",
        "<img src=\"https://resizing.flixster.com/Grjhpv0wcwgi-uhfaC3QM8KFglY=/ems.cHJkLWVtcy1hc3NldHMvbW92aWVzLzdmOWE4MWFiLWVlOWMtNDA4Mi05OTA0LTRiNjMxNTEwMzk1MC5qcGc=\" height=300><a href=\"https://resizing.flixster.com/Grjhpv0wcwgi-uhfaC3QM8KFglY=/ems.cHJkLWVtcy1hc3NldHMvbW92aWVzLzdmOWE4MWFiLWVlOWMtNDA4Mi05OTA0LTRiNjMxNTEwMzk1MC5qcGc=\">source</a></td><td><img src=\"https://encrypted-tbn2.gstatic.com/images?q=tbn:ANd9GcRQCHfe9VV3K3Efxv5PYQ_6NYpB20WkKS1zW21UEUmhW1lalECnbwTH3nwQL8XprEMTUCtPeA\" height=300><a href=\"https://encrypted-tbn2.gstatic.com/images?q=tbn:ANd9GcRQCHfe9VV3K3Efxv5PYQ_6NYpB20WkKS1zW21UEUmhW1lalECnbwTH3nwQL8XprEMTUCtPeA\">source</a></td></tr></table>"
      ]
    },
    {
      "cell_type": "code",
      "execution_count": 2,
      "metadata": {
        "id": "hyL8ePRTe2fa"
      },
      "outputs": [],
      "source": [
        "# importing the package(s) we want to use\n",
        "import pandas as pd"
      ]
    },
    {
      "cell_type": "markdown",
      "metadata": {
        "id": "6PdpBU4Ce2fi"
      },
      "source": [
        "### Let's explore the movies data set more! ###\n",
        "We'll use the `pd.read_csv()` function to read the csv file into a DataFrame."
      ]
    },
    {
      "cell_type": "code",
      "execution_count": 38,
      "metadata": {
        "colab": {
          "base_uri": "https://localhost:8080/",
          "height": 206
        },
        "id": "HlU8VYjYe2fi",
        "outputId": "5e207edf-1124-4812-f69c-8ea64ac99a4f"
      },
      "outputs": [
        {
          "data": {
            "text/html": [
              "<div>\n",
              "<style scoped>\n",
              "    .dataframe tbody tr th:only-of-type {\n",
              "        vertical-align: middle;\n",
              "    }\n",
              "\n",
              "    .dataframe tbody tr th {\n",
              "        vertical-align: top;\n",
              "    }\n",
              "\n",
              "    .dataframe thead th {\n",
              "        text-align: right;\n",
              "    }\n",
              "</style>\n",
              "<table border=\"1\" class=\"dataframe\">\n",
              "  <thead>\n",
              "    <tr style=\"text-align: right;\">\n",
              "      <th></th>\n",
              "      <th>Title</th>\n",
              "      <th>Gross</th>\n",
              "      <th>Gross (Adjusted)</th>\n",
              "      <th>Year</th>\n",
              "    </tr>\n",
              "  </thead>\n",
              "  <tbody>\n",
              "    <tr>\n",
              "      <th>0</th>\n",
              "      <td>Gone with the Wind</td>\n",
              "      <td>200852579</td>\n",
              "      <td>1895421694</td>\n",
              "      <td>1939</td>\n",
              "    </tr>\n",
              "    <tr>\n",
              "      <th>1</th>\n",
              "      <td>Star Wars: Episode IV - A New Hope</td>\n",
              "      <td>460998507</td>\n",
              "      <td>1668979715</td>\n",
              "      <td>1977</td>\n",
              "    </tr>\n",
              "    <tr>\n",
              "      <th>2</th>\n",
              "      <td>The Sound of Music</td>\n",
              "      <td>159287539</td>\n",
              "      <td>1335086324</td>\n",
              "      <td>1965</td>\n",
              "    </tr>\n",
              "    <tr>\n",
              "      <th>3</th>\n",
              "      <td>E.T. the Extra-Terrestrial</td>\n",
              "      <td>435110554</td>\n",
              "      <td>1329174791</td>\n",
              "      <td>1982</td>\n",
              "    </tr>\n",
              "    <tr>\n",
              "      <th>4</th>\n",
              "      <td>Titanic</td>\n",
              "      <td>659363944</td>\n",
              "      <td>1270101626</td>\n",
              "      <td>1997</td>\n",
              "    </tr>\n",
              "  </tbody>\n",
              "</table>\n",
              "</div>"
            ],
            "text/plain": [
              "                                Title      Gross  Gross (Adjusted)  Year\n",
              "0                  Gone with the Wind  200852579        1895421694  1939\n",
              "1  Star Wars: Episode IV - A New Hope  460998507        1668979715  1977\n",
              "2                  The Sound of Music  159287539        1335086324  1965\n",
              "3          E.T. the Extra-Terrestrial  435110554        1329174791  1982\n",
              "4                             Titanic  659363944        1270101626  1997"
            ]
          },
          "execution_count": 38,
          "metadata": {},
          "output_type": "execute_result"
        }
      ],
      "source": [
        "# head() method allows us to see the first few lines\n",
        "\n",
        "csvFile = 'https://raw.githubusercontent.com/csbfx/advpy122-data/master/top_movies_2020.csv'\n",
        "\n",
        "movies = pd.read_csv(csvFile)\n",
        "movies.head()"
      ]
    },
    {
      "cell_type": "markdown",
      "metadata": {
        "id": "of1jJGGAJ6_G"
      },
      "source": [
        "### Initial data exploration"
      ]
    },
    {
      "cell_type": "markdown",
      "metadata": {
        "id": "3wyNMxsme2fj"
      },
      "source": [
        "We can examine the contents of the resultant DataFrame using the `head()` and `tail()` commands:"
      ]
    },
    {
      "cell_type": "code",
      "execution_count": 4,
      "metadata": {
        "id": "cp8cgjyse2fj"
      },
      "outputs": [
        {
          "data": {
            "text/html": [
              "<div>\n",
              "<style scoped>\n",
              "    .dataframe tbody tr th:only-of-type {\n",
              "        vertical-align: middle;\n",
              "    }\n",
              "\n",
              "    .dataframe tbody tr th {\n",
              "        vertical-align: top;\n",
              "    }\n",
              "\n",
              "    .dataframe thead th {\n",
              "        text-align: right;\n",
              "    }\n",
              "</style>\n",
              "<table border=\"1\" class=\"dataframe\">\n",
              "  <thead>\n",
              "    <tr style=\"text-align: right;\">\n",
              "      <th></th>\n",
              "      <th>Title</th>\n",
              "      <th>Gross</th>\n",
              "      <th>Gross (Adjusted)</th>\n",
              "      <th>Year</th>\n",
              "    </tr>\n",
              "  </thead>\n",
              "  <tbody>\n",
              "    <tr>\n",
              "      <th>0</th>\n",
              "      <td>Gone with the Wind</td>\n",
              "      <td>200852579</td>\n",
              "      <td>1895421694</td>\n",
              "      <td>1939</td>\n",
              "    </tr>\n",
              "    <tr>\n",
              "      <th>1</th>\n",
              "      <td>Star Wars: Episode IV - A New Hope</td>\n",
              "      <td>460998507</td>\n",
              "      <td>1668979715</td>\n",
              "      <td>1977</td>\n",
              "    </tr>\n",
              "    <tr>\n",
              "      <th>2</th>\n",
              "      <td>The Sound of Music</td>\n",
              "      <td>159287539</td>\n",
              "      <td>1335086324</td>\n",
              "      <td>1965</td>\n",
              "    </tr>\n",
              "  </tbody>\n",
              "</table>\n",
              "</div>"
            ],
            "text/plain": [
              "                                Title      Gross  Gross (Adjusted)  Year\n",
              "0                  Gone with the Wind  200852579        1895421694  1939\n",
              "1  Star Wars: Episode IV - A New Hope  460998507        1668979715  1977\n",
              "2                  The Sound of Music  159287539        1335086324  1965"
            ]
          },
          "execution_count": 4,
          "metadata": {},
          "output_type": "execute_result"
        }
      ],
      "source": [
        "### Take a look at the top 3 values of the file\n",
        "\n",
        "movies.head(3)"
      ]
    },
    {
      "cell_type": "code",
      "execution_count": 5,
      "metadata": {
        "id": "Op7hgmy7JwaU"
      },
      "outputs": [
        {
          "data": {
            "text/html": [
              "<div>\n",
              "<style scoped>\n",
              "    .dataframe tbody tr th:only-of-type {\n",
              "        vertical-align: middle;\n",
              "    }\n",
              "\n",
              "    .dataframe tbody tr th {\n",
              "        vertical-align: top;\n",
              "    }\n",
              "\n",
              "    .dataframe thead th {\n",
              "        text-align: right;\n",
              "    }\n",
              "</style>\n",
              "<table border=\"1\" class=\"dataframe\">\n",
              "  <thead>\n",
              "    <tr style=\"text-align: right;\">\n",
              "      <th></th>\n",
              "      <th>Title</th>\n",
              "      <th>Gross</th>\n",
              "      <th>Gross (Adjusted)</th>\n",
              "      <th>Year</th>\n",
              "    </tr>\n",
              "  </thead>\n",
              "  <tbody>\n",
              "    <tr>\n",
              "      <th>195</th>\n",
              "      <td>Patton</td>\n",
              "      <td>61749765</td>\n",
              "      <td>373287682</td>\n",
              "      <td>1970</td>\n",
              "    </tr>\n",
              "    <tr>\n",
              "      <th>196</th>\n",
              "      <td>Fatal Attraction</td>\n",
              "      <td>156645693</td>\n",
              "      <td>371808159</td>\n",
              "      <td>1987</td>\n",
              "    </tr>\n",
              "    <tr>\n",
              "      <th>197</th>\n",
              "      <td>Iron Man 2</td>\n",
              "      <td>312433331</td>\n",
              "      <td>371691971</td>\n",
              "      <td>2010</td>\n",
              "    </tr>\n",
              "    <tr>\n",
              "      <th>198</th>\n",
              "      <td>Zootopia</td>\n",
              "      <td>341268248</td>\n",
              "      <td>371109157</td>\n",
              "      <td>2016</td>\n",
              "    </tr>\n",
              "    <tr>\n",
              "      <th>199</th>\n",
              "      <td>Liar Liar</td>\n",
              "      <td>181410615</td>\n",
              "      <td>370330510</td>\n",
              "      <td>1997</td>\n",
              "    </tr>\n",
              "  </tbody>\n",
              "</table>\n",
              "</div>"
            ],
            "text/plain": [
              "                Title      Gross  Gross (Adjusted)  Year\n",
              "195            Patton   61749765         373287682  1970\n",
              "196  Fatal Attraction  156645693         371808159  1987\n",
              "197        Iron Man 2  312433331         371691971  2010\n",
              "198          Zootopia  341268248         371109157  2016\n",
              "199         Liar Liar  181410615         370330510  1997"
            ]
          },
          "execution_count": 5,
          "metadata": {},
          "output_type": "execute_result"
        }
      ],
      "source": [
        "### How about the last 5 values of a the file?\n",
        "\n",
        "movies.tail(5)"
      ]
    },
    {
      "cell_type": "markdown",
      "metadata": {
        "id": "L8uiEv0ue2fl"
      },
      "source": [
        "Use the info() method to get a quick description of the dataframe"
      ]
    },
    {
      "cell_type": "code",
      "execution_count": 6,
      "metadata": {
        "id": "rYu2xgUme2fl"
      },
      "outputs": [
        {
          "name": "stdout",
          "output_type": "stream",
          "text": [
            "<class 'pandas.core.frame.DataFrame'>\n",
            "RangeIndex: 200 entries, 0 to 199\n",
            "Data columns (total 4 columns):\n",
            " #   Column            Non-Null Count  Dtype \n",
            "---  ------            --------------  ----- \n",
            " 0   Title             200 non-null    object\n",
            " 1   Gross             200 non-null    int64 \n",
            " 2   Gross (Adjusted)  200 non-null    int64 \n",
            " 3   Year              200 non-null    int64 \n",
            "dtypes: int64(3), object(1)\n",
            "memory usage: 6.4+ KB\n"
          ]
        }
      ],
      "source": [
        "### Get a quick summary of the data using the info() method\n",
        "\n",
        "movies.info()"
      ]
    },
    {
      "cell_type": "markdown",
      "metadata": {
        "id": "AL-bvKhEZo6K"
      },
      "source": [
        "# Working to filter different elements"
      ]
    },
    {
      "cell_type": "markdown",
      "metadata": {
        "id": "VU4n-R0ypGwy"
      },
      "source": [
        "Using iloc and loc to extract specific rows and columns"
      ]
    },
    {
      "cell_type": "code",
      "execution_count": 15,
      "metadata": {
        "id": "ENqPweADZnlC"
      },
      "outputs": [
        {
          "name": "stdout",
          "output_type": "stream",
          "text": [
            "0                    Gone with the Wind\n",
            "1    Star Wars: Episode IV - A New Hope\n",
            "2                    The Sound of Music\n",
            "3            E.T. the Extra-Terrestrial\n",
            "4                               Titanic\n",
            "5                  The Ten Commandments\n",
            "6                                  Jaws\n",
            "7                        Doctor Zhivago\n",
            "8                          The Exorcist\n",
            "9       Snow White and the Seven Dwarfs\n",
            "Name: Movie Series, dtype: object\n"
          ]
        }
      ],
      "source": [
        "### Get the first 10 elements (movies) of the second column and convert it into a series with a name\n",
        "\n",
        "## Second column is grabbed using index 1\n",
        "\n",
        "new_series = pd.Series(movies.iloc[:10,0], name = \"Movie Series\")\n",
        "print(new_series)"
      ]
    },
    {
      "cell_type": "code",
      "execution_count": null,
      "metadata": {
        "id": "kRy9tINCEYoh"
      },
      "outputs": [
        {
          "name": "stdout",
          "output_type": "stream",
          "text": [
            "0                    Gone with the Wind\n",
            "1    Star Wars: Episode IV - A New Hope\n",
            "2                    The Sound of Music\n",
            "3            E.T. the Extra-Terrestrial\n",
            "4                               Titanic\n",
            "5                  The Ten Commandments\n",
            "6                                  Jaws\n",
            "7                        Doctor Zhivago\n",
            "8                          The Exorcist\n",
            "9       Snow White and the Seven Dwarfs\n",
            "Name: String Series, dtype: object\n",
            "<class 'str'>\n"
          ]
        }
      ],
      "source": [
        "### Get the names of the first 10 movies and convert it into a series and give it type string\n",
        "\n",
        "## astype.(str) converts the individual values to string types\n",
        "\n",
        "another_series = pd.Series(movies.iloc[:10,0], name=\"String Series\").astype(str)\n",
        "print(another_series)\n",
        "\n",
        "## Checking individual entry to ensure it is a string data type\n",
        "\n",
        "print(type(another_series.iloc[0]))"
      ]
    },
    {
      "cell_type": "code",
      "execution_count": 35,
      "metadata": {
        "id": "i2B4YKO0F1aH"
      },
      "outputs": [
        {
          "name": "stdout",
          "output_type": "stream",
          "text": [
            "                                        Shock       Mock      Stock\n",
            "180                   Guardians of the Galaxy  333176600  385834112\n",
            "181                                 Furious 7  353007020  384393006\n",
            "182                       Mission: Impossible  180981856  383664957\n",
            "183     The Hunger Games: Mockingjay - Part 1  337135885  381611053\n",
            "184                                   Minions  336045770  381492054\n",
            "185    Harry Potter and the Half-Blood Prince  302305431  381195025\n",
            "186                      Saturday Night Fever   94213184  380466039\n",
            "187                            On Golden Pond  119285432  380274891\n",
            "188     Austin Powers: The Spy Who Shagged Me  206040086  380038767\n",
            "189  Harry Potter and the Prisoner of Azkaban  249975996  378596724\n",
            "190                            Bruce Almighty  242829261  377331774\n",
            "191                                Funny Girl   52223306  375170115\n",
            "192                    Mission: Impossible II  215409889  374469239\n",
            "193                               Rush Hour 2  226164286  374410208\n",
            "194                                 Apollo 13  173837933  373466649\n",
            "195                                    Patton   61749765  373287682\n",
            "196                          Fatal Attraction  156645693  371808159\n",
            "197                                Iron Man 2  312433331  371691971\n",
            "198                                  Zootopia  341268248  371109157\n",
            "199                                 Liar Liar  181410615  370330510\n"
          ]
        }
      ],
      "source": [
        "### Create a smaller dataframe with last 20 elements and all columns except 'Year'. Give the columns new custom names (your choice).\n",
        "\n",
        "smaller_df = movies.iloc[-20:].drop(columns=['Year'])\n",
        "smaller_df.columns = ([\"Shock\", \"Mock\", \"Stock\"])\n",
        "print(smaller_df)"
      ]
    },
    {
      "cell_type": "markdown",
      "metadata": {
        "id": "QK9I_3ripSwv"
      },
      "source": [
        "Subsetting the dataframe based on conditions"
      ]
    },
    {
      "cell_type": "code",
      "execution_count": null,
      "metadata": {
        "id": "TdIg-TSgoqzL"
      },
      "outputs": [
        {
          "data": {
            "text/html": [
              "<div>\n",
              "<style scoped>\n",
              "    .dataframe tbody tr th:only-of-type {\n",
              "        vertical-align: middle;\n",
              "    }\n",
              "\n",
              "    .dataframe tbody tr th {\n",
              "        vertical-align: top;\n",
              "    }\n",
              "\n",
              "    .dataframe thead th {\n",
              "        text-align: right;\n",
              "    }\n",
              "</style>\n",
              "<table border=\"1\" class=\"dataframe\">\n",
              "  <thead>\n",
              "    <tr style=\"text-align: right;\">\n",
              "      <th></th>\n",
              "      <th>Title</th>\n",
              "      <th>Gross</th>\n",
              "      <th>Gross (Adjusted)</th>\n",
              "      <th>Year</th>\n",
              "    </tr>\n",
              "  </thead>\n",
              "  <tbody>\n",
              "    <tr>\n",
              "      <th>122</th>\n",
              "      <td>How the Grinch Stole Christmas</td>\n",
              "      <td>260044825</td>\n",
              "      <td>450760716</td>\n",
              "      <td>2000</td>\n",
              "    </tr>\n",
              "    <tr>\n",
              "      <th>175</th>\n",
              "      <td>Cast Away</td>\n",
              "      <td>233632142</td>\n",
              "      <td>392548654</td>\n",
              "      <td>2000</td>\n",
              "    </tr>\n",
              "    <tr>\n",
              "      <th>192</th>\n",
              "      <td>Mission: Impossible II</td>\n",
              "      <td>215409889</td>\n",
              "      <td>374469239</td>\n",
              "      <td>2000</td>\n",
              "    </tr>\n",
              "    <tr>\n",
              "      <th>127</th>\n",
              "      <td>Shrek</td>\n",
              "      <td>267665011</td>\n",
              "      <td>443112922</td>\n",
              "      <td>2001</td>\n",
              "    </tr>\n",
              "    <tr>\n",
              "      <th>193</th>\n",
              "      <td>Rush Hour 2</td>\n",
              "      <td>226164286</td>\n",
              "      <td>374410208</td>\n",
              "      <td>2001</td>\n",
              "    </tr>\n",
              "    <tr>\n",
              "      <th>89</th>\n",
              "      <td>The Lord of the Rings: The Fellowship of the Ring</td>\n",
              "      <td>315544750</td>\n",
              "      <td>513470378</td>\n",
              "      <td>2001</td>\n",
              "    </tr>\n",
              "    <tr>\n",
              "      <th>79</th>\n",
              "      <td>Harry Potter and the Sorcerer's Stone</td>\n",
              "      <td>318087620</td>\n",
              "      <td>526061784</td>\n",
              "      <td>2001</td>\n",
              "    </tr>\n",
              "    <tr>\n",
              "      <th>114</th>\n",
              "      <td>Monsters Inc.</td>\n",
              "      <td>289916256</td>\n",
              "      <td>462438547</td>\n",
              "      <td>2001</td>\n",
              "    </tr>\n",
              "    <tr>\n",
              "      <th>179</th>\n",
              "      <td>My Big Fat Greek Wedding</td>\n",
              "      <td>241438208</td>\n",
              "      <td>388100715</td>\n",
              "      <td>2002</td>\n",
              "    </tr>\n",
              "    <tr>\n",
              "      <th>71</th>\n",
              "      <td>The Lord of the Rings: The Two Towers</td>\n",
              "      <td>342551365</td>\n",
              "      <td>540886998</td>\n",
              "      <td>2002</td>\n",
              "    </tr>\n",
              "    <tr>\n",
              "      <th>99</th>\n",
              "      <td>Star Wars: Episode II - Attack of the Clones</td>\n",
              "      <td>310676740</td>\n",
              "      <td>500999845</td>\n",
              "      <td>2002</td>\n",
              "    </tr>\n",
              "    <tr>\n",
              "      <th>38</th>\n",
              "      <td>Spider-Man</td>\n",
              "      <td>407022860</td>\n",
              "      <td>661768431</td>\n",
              "      <td>2002</td>\n",
              "    </tr>\n",
              "    <tr>\n",
              "      <th>144</th>\n",
              "      <td>Harry Potter and the Chamber of Secrets</td>\n",
              "      <td>262450136</td>\n",
              "      <td>422965548</td>\n",
              "      <td>2002</td>\n",
              "    </tr>\n",
              "    <tr>\n",
              "      <th>59</th>\n",
              "      <td>Finding Nemo</td>\n",
              "      <td>380843261</td>\n",
              "      <td>577065505</td>\n",
              "      <td>2003</td>\n",
              "    </tr>\n",
              "    <tr>\n",
              "      <th>58</th>\n",
              "      <td>The Lord of the Rings: The Return of the King</td>\n",
              "      <td>377845905</td>\n",
              "      <td>577563989</td>\n",
              "      <td>2003</td>\n",
              "    </tr>\n",
              "    <tr>\n",
              "      <th>190</th>\n",
              "      <td>Bruce Almighty</td>\n",
              "      <td>242829261</td>\n",
              "      <td>377331774</td>\n",
              "      <td>2003</td>\n",
              "    </tr>\n",
              "    <tr>\n",
              "      <th>109</th>\n",
              "      <td>Pirates of the Caribbean: The Curse of the Bla...</td>\n",
              "      <td>305413918</td>\n",
              "      <td>474580193</td>\n",
              "      <td>2003</td>\n",
              "    </tr>\n",
              "    <tr>\n",
              "      <th>131</th>\n",
              "      <td>The Matrix Reloaded</td>\n",
              "      <td>281576461</td>\n",
              "      <td>437540583</td>\n",
              "      <td>2003</td>\n",
              "    </tr>\n",
              "    <tr>\n",
              "      <th>174</th>\n",
              "      <td>The Incredibles</td>\n",
              "      <td>261441092</td>\n",
              "      <td>393821100</td>\n",
              "      <td>2004</td>\n",
              "    </tr>\n",
              "    <tr>\n",
              "      <th>189</th>\n",
              "      <td>Harry Potter and the Prisoner of Azkaban</td>\n",
              "      <td>249975996</td>\n",
              "      <td>378596724</td>\n",
              "      <td>2004</td>\n",
              "    </tr>\n",
              "    <tr>\n",
              "      <th>150</th>\n",
              "      <td>Meet the Fockers</td>\n",
              "      <td>279261160</td>\n",
              "      <td>413901010</td>\n",
              "      <td>2004</td>\n",
              "    </tr>\n",
              "    <tr>\n",
              "      <th>68</th>\n",
              "      <td>The Passion of the Christ</td>\n",
              "      <td>370782930</td>\n",
              "      <td>559433976</td>\n",
              "      <td>2004</td>\n",
              "    </tr>\n",
              "    <tr>\n",
              "      <th>37</th>\n",
              "      <td>Shrek 2</td>\n",
              "      <td>441226247</td>\n",
              "      <td>665746933</td>\n",
              "      <td>2004</td>\n",
              "    </tr>\n",
              "    <tr>\n",
              "      <th>64</th>\n",
              "      <td>Spider-Man 2</td>\n",
              "      <td>373585825</td>\n",
              "      <td>563687019</td>\n",
              "      <td>2004</td>\n",
              "    </tr>\n",
              "    <tr>\n",
              "      <th>141</th>\n",
              "      <td>Harry Potter and the Goblet of Fire</td>\n",
              "      <td>290417905</td>\n",
              "      <td>425336158</td>\n",
              "      <td>2005</td>\n",
              "    </tr>\n",
              "    <tr>\n",
              "      <th>143</th>\n",
              "      <td>The Chronicles of Narnia: The Lion the Witch a...</td>\n",
              "      <td>291710957</td>\n",
              "      <td>423300994</td>\n",
              "      <td>2005</td>\n",
              "    </tr>\n",
              "    <tr>\n",
              "      <th>69</th>\n",
              "      <td>Star Wars: Episode III - Revenge of the Sith</td>\n",
              "      <td>380270577</td>\n",
              "      <td>555871502</td>\n",
              "      <td>2005</td>\n",
              "    </tr>\n",
              "    <tr>\n",
              "      <th>52</th>\n",
              "      <td>Pirates of the Caribbean: Dead Man's Chest</td>\n",
              "      <td>423315812</td>\n",
              "      <td>605568108</td>\n",
              "      <td>2006</td>\n",
              "    </tr>\n",
              "    <tr>\n",
              "      <th>132</th>\n",
              "      <td>Transformers</td>\n",
              "      <td>319246193</td>\n",
              "      <td>434787677</td>\n",
              "      <td>2007</td>\n",
              "    </tr>\n",
              "    <tr>\n",
              "      <th>145</th>\n",
              "      <td>Pirates of the Caribbean: At World's End</td>\n",
              "      <td>309420425</td>\n",
              "      <td>421405443</td>\n",
              "      <td>2007</td>\n",
              "    </tr>\n",
              "    <tr>\n",
              "      <th>116</th>\n",
              "      <td>Spider-Man 3</td>\n",
              "      <td>336530303</td>\n",
              "      <td>458326991</td>\n",
              "      <td>2007</td>\n",
              "    </tr>\n",
              "    <tr>\n",
              "      <th>165</th>\n",
              "      <td>Harry Potter and the Order of the Phoenix</td>\n",
              "      <td>292353413</td>\n",
              "      <td>399669854</td>\n",
              "      <td>2007</td>\n",
              "    </tr>\n",
              "    <tr>\n",
              "      <th>128</th>\n",
              "      <td>Shrek the Third</td>\n",
              "      <td>322719944</td>\n",
              "      <td>439518590</td>\n",
              "      <td>2007</td>\n",
              "    </tr>\n",
              "    <tr>\n",
              "      <th>32</th>\n",
              "      <td>The Dark Knight</td>\n",
              "      <td>535234033</td>\n",
              "      <td>698121220</td>\n",
              "      <td>2008</td>\n",
              "    </tr>\n",
              "    <tr>\n",
              "      <th>147</th>\n",
              "      <td>Iron Man</td>\n",
              "      <td>319034126</td>\n",
              "      <td>415951166</td>\n",
              "      <td>2008</td>\n",
              "    </tr>\n",
              "    <tr>\n",
              "      <th>151</th>\n",
              "      <td>Indiana Jones and the Kingdom of the Crystal S...</td>\n",
              "      <td>317101119</td>\n",
              "      <td>413821365</td>\n",
              "      <td>2008</td>\n",
              "    </tr>\n",
              "    <tr>\n",
              "      <th>14</th>\n",
              "      <td>Avatar</td>\n",
              "      <td>760507625</td>\n",
              "      <td>911790952</td>\n",
              "      <td>2009</td>\n",
              "    </tr>\n",
              "    <tr>\n",
              "      <th>93</th>\n",
              "      <td>Transformers: Revenge of the Fallen</td>\n",
              "      <td>402111870</td>\n",
              "      <td>505051433</td>\n",
              "      <td>2009</td>\n",
              "    </tr>\n",
              "    <tr>\n",
              "      <th>185</th>\n",
              "      <td>Harry Potter and the Half-Blood Prince</td>\n",
              "      <td>302305431</td>\n",
              "      <td>381195025</td>\n",
              "      <td>2009</td>\n",
              "    </tr>\n",
              "    <tr>\n",
              "      <th>173</th>\n",
              "      <td>Alice in Wonderland</td>\n",
              "      <td>334191110</td>\n",
              "      <td>394495740</td>\n",
              "      <td>2010</td>\n",
              "    </tr>\n",
              "    <tr>\n",
              "      <th>101</th>\n",
              "      <td>Toy Story 3</td>\n",
              "      <td>415004880</td>\n",
              "      <td>499790178</td>\n",
              "      <td>2010</td>\n",
              "    </tr>\n",
              "    <tr>\n",
              "      <th>197</th>\n",
              "      <td>Iron Man 2</td>\n",
              "      <td>312433331</td>\n",
              "      <td>371691971</td>\n",
              "      <td>2010</td>\n",
              "    </tr>\n",
              "  </tbody>\n",
              "</table>\n",
              "</div>"
            ],
            "text/plain": [
              "                                                 Title      Gross  \\\n",
              "122                     How the Grinch Stole Christmas  260044825   \n",
              "175                                          Cast Away  233632142   \n",
              "192                             Mission: Impossible II  215409889   \n",
              "127                                              Shrek  267665011   \n",
              "193                                        Rush Hour 2  226164286   \n",
              "89   The Lord of the Rings: The Fellowship of the Ring  315544750   \n",
              "79               Harry Potter and the Sorcerer's Stone  318087620   \n",
              "114                                      Monsters Inc.  289916256   \n",
              "179                           My Big Fat Greek Wedding  241438208   \n",
              "71               The Lord of the Rings: The Two Towers  342551365   \n",
              "99        Star Wars: Episode II - Attack of the Clones  310676740   \n",
              "38                                          Spider-Man  407022860   \n",
              "144            Harry Potter and the Chamber of Secrets  262450136   \n",
              "59                                        Finding Nemo  380843261   \n",
              "58       The Lord of the Rings: The Return of the King  377845905   \n",
              "190                                     Bruce Almighty  242829261   \n",
              "109  Pirates of the Caribbean: The Curse of the Bla...  305413918   \n",
              "131                                The Matrix Reloaded  281576461   \n",
              "174                                    The Incredibles  261441092   \n",
              "189           Harry Potter and the Prisoner of Azkaban  249975996   \n",
              "150                                   Meet the Fockers  279261160   \n",
              "68                           The Passion of the Christ  370782930   \n",
              "37                                             Shrek 2  441226247   \n",
              "64                                        Spider-Man 2  373585825   \n",
              "141                Harry Potter and the Goblet of Fire  290417905   \n",
              "143  The Chronicles of Narnia: The Lion the Witch a...  291710957   \n",
              "69        Star Wars: Episode III - Revenge of the Sith  380270577   \n",
              "52          Pirates of the Caribbean: Dead Man's Chest  423315812   \n",
              "132                                       Transformers  319246193   \n",
              "145           Pirates of the Caribbean: At World's End  309420425   \n",
              "116                                       Spider-Man 3  336530303   \n",
              "165          Harry Potter and the Order of the Phoenix  292353413   \n",
              "128                                    Shrek the Third  322719944   \n",
              "32                                     The Dark Knight  535234033   \n",
              "147                                           Iron Man  319034126   \n",
              "151  Indiana Jones and the Kingdom of the Crystal S...  317101119   \n",
              "14                                              Avatar  760507625   \n",
              "93                 Transformers: Revenge of the Fallen  402111870   \n",
              "185             Harry Potter and the Half-Blood Prince  302305431   \n",
              "173                                Alice in Wonderland  334191110   \n",
              "101                                        Toy Story 3  415004880   \n",
              "197                                         Iron Man 2  312433331   \n",
              "\n",
              "     Gross (Adjusted)  Year  \n",
              "122         450760716  2000  \n",
              "175         392548654  2000  \n",
              "192         374469239  2000  \n",
              "127         443112922  2001  \n",
              "193         374410208  2001  \n",
              "89          513470378  2001  \n",
              "79          526061784  2001  \n",
              "114         462438547  2001  \n",
              "179         388100715  2002  \n",
              "71          540886998  2002  \n",
              "99          500999845  2002  \n",
              "38          661768431  2002  \n",
              "144         422965548  2002  \n",
              "59          577065505  2003  \n",
              "58          577563989  2003  \n",
              "190         377331774  2003  \n",
              "109         474580193  2003  \n",
              "131         437540583  2003  \n",
              "174         393821100  2004  \n",
              "189         378596724  2004  \n",
              "150         413901010  2004  \n",
              "68          559433976  2004  \n",
              "37          665746933  2004  \n",
              "64          563687019  2004  \n",
              "141         425336158  2005  \n",
              "143         423300994  2005  \n",
              "69          555871502  2005  \n",
              "52          605568108  2006  \n",
              "132         434787677  2007  \n",
              "145         421405443  2007  \n",
              "116         458326991  2007  \n",
              "165         399669854  2007  \n",
              "128         439518590  2007  \n",
              "32          698121220  2008  \n",
              "147         415951166  2008  \n",
              "151         413821365  2008  \n",
              "14          911790952  2009  \n",
              "93          505051433  2009  \n",
              "185         381195025  2009  \n",
              "173         394495740  2010  \n",
              "101         499790178  2010  \n",
              "197         371691971  2010  "
            ]
          },
          "execution_count": 42,
          "metadata": {},
          "output_type": "execute_result"
        }
      ],
      "source": [
        "### Create a smaller dataframe with movies made in the year 2000s\n",
        "\n",
        "## Ensure parentheses around individual condition for good boolean evaluation\n",
        "\n",
        "twothousands_df = movies[((movies[\"Year\"]>= 2000) & (movies[\"Year\"]<= 2010))].sort_values(by=\"Year\")\n",
        "twothousands_df"
      ]
    },
    {
      "cell_type": "code",
      "execution_count": null,
      "metadata": {
        "id": "Tf3HYCn5JDB8"
      },
      "outputs": [
        {
          "name": "stdout",
          "output_type": "stream",
          "text": [
            "['Gone with the Wind', 'Star Wars: Episode IV - A New Hope']\n"
          ]
        },
        {
          "data": {
            "text/plain": [
              "2"
            ]
          },
          "execution_count": 56,
          "metadata": {},
          "output_type": "execute_result"
        }
      ],
      "source": [
        "### How many movies Gross (use 'Gross (Adjusted)') over 1,500,000,000?\n",
        "\n",
        "## tolist creates a new list that includes any movies meeting the parameter\n",
        "\n",
        "## used len to count the number of films in the list\n",
        "\n",
        "gross_search = movies[movies[\"Gross (Adjusted)\"] >= 1500000000][\"Title\"].tolist()\n",
        "count_over = len(gross_search)\n",
        "print(gross_search)\n",
        "count_over"
      ]
    },
    {
      "cell_type": "markdown",
      "metadata": {
        "id": "dg7NUNTCpbSU"
      },
      "source": [
        "Customizing the dataframe"
      ]
    },
    {
      "cell_type": "code",
      "execution_count": 58,
      "metadata": {
        "id": "jLeVnvOtplcU"
      },
      "outputs": [
        {
          "name": "stdout",
          "output_type": "stream",
          "text": [
            "                                  Movie      Gross   Gross_adj  Year\n",
            "0                    Gone with the Wind  200852579  1895421694  1939\n",
            "1    Star Wars: Episode IV - A New Hope  460998507  1668979715  1977\n",
            "2                    The Sound of Music  159287539  1335086324  1965\n",
            "3            E.T. the Extra-Terrestrial  435110554  1329174791  1982\n",
            "4                               Titanic  659363944  1270101626  1997\n",
            "..                                  ...        ...         ...   ...\n",
            "195                              Patton   61749765   373287682  1970\n",
            "196                    Fatal Attraction  156645693   371808159  1987\n",
            "197                          Iron Man 2  312433331   371691971  2010\n",
            "198                            Zootopia  341268248   371109157  2016\n",
            "199                           Liar Liar  181410615   370330510  1997\n",
            "\n",
            "[200 rows x 4 columns]\n"
          ]
        }
      ],
      "source": [
        "### Use DataFrame.columns to change the column name to 'Movie','Gross', 'Gross_adj', and 'Year'\n",
        "\n",
        "movies.columns = [\"Movie\", \"Gross\", \"Gross_adj\", \"Year\"]\n",
        "print(movies)"
      ]
    },
    {
      "cell_type": "code",
      "execution_count": 59,
      "metadata": {
        "id": "GOrFVLT4IgBH"
      },
      "outputs": [
        {
          "data": {
            "text/html": [
              "<div>\n",
              "<style scoped>\n",
              "    .dataframe tbody tr th:only-of-type {\n",
              "        vertical-align: middle;\n",
              "    }\n",
              "\n",
              "    .dataframe tbody tr th {\n",
              "        vertical-align: top;\n",
              "    }\n",
              "\n",
              "    .dataframe thead th {\n",
              "        text-align: right;\n",
              "    }\n",
              "</style>\n",
              "<table border=\"1\" class=\"dataframe\">\n",
              "  <thead>\n",
              "    <tr style=\"text-align: right;\">\n",
              "      <th></th>\n",
              "      <th>Gross</th>\n",
              "      <th>Gross_adj</th>\n",
              "      <th>Year</th>\n",
              "    </tr>\n",
              "    <tr>\n",
              "      <th>Movie</th>\n",
              "      <th></th>\n",
              "      <th></th>\n",
              "      <th></th>\n",
              "    </tr>\n",
              "  </thead>\n",
              "  <tbody>\n",
              "    <tr>\n",
              "      <th>Gone with the Wind</th>\n",
              "      <td>200852579</td>\n",
              "      <td>1895421694</td>\n",
              "      <td>1939</td>\n",
              "    </tr>\n",
              "    <tr>\n",
              "      <th>Star Wars: Episode IV - A New Hope</th>\n",
              "      <td>460998507</td>\n",
              "      <td>1668979715</td>\n",
              "      <td>1977</td>\n",
              "    </tr>\n",
              "    <tr>\n",
              "      <th>The Sound of Music</th>\n",
              "      <td>159287539</td>\n",
              "      <td>1335086324</td>\n",
              "      <td>1965</td>\n",
              "    </tr>\n",
              "    <tr>\n",
              "      <th>E.T. the Extra-Terrestrial</th>\n",
              "      <td>435110554</td>\n",
              "      <td>1329174791</td>\n",
              "      <td>1982</td>\n",
              "    </tr>\n",
              "    <tr>\n",
              "      <th>Titanic</th>\n",
              "      <td>659363944</td>\n",
              "      <td>1270101626</td>\n",
              "      <td>1997</td>\n",
              "    </tr>\n",
              "    <tr>\n",
              "      <th>...</th>\n",
              "      <td>...</td>\n",
              "      <td>...</td>\n",
              "      <td>...</td>\n",
              "    </tr>\n",
              "    <tr>\n",
              "      <th>Patton</th>\n",
              "      <td>61749765</td>\n",
              "      <td>373287682</td>\n",
              "      <td>1970</td>\n",
              "    </tr>\n",
              "    <tr>\n",
              "      <th>Fatal Attraction</th>\n",
              "      <td>156645693</td>\n",
              "      <td>371808159</td>\n",
              "      <td>1987</td>\n",
              "    </tr>\n",
              "    <tr>\n",
              "      <th>Iron Man 2</th>\n",
              "      <td>312433331</td>\n",
              "      <td>371691971</td>\n",
              "      <td>2010</td>\n",
              "    </tr>\n",
              "    <tr>\n",
              "      <th>Zootopia</th>\n",
              "      <td>341268248</td>\n",
              "      <td>371109157</td>\n",
              "      <td>2016</td>\n",
              "    </tr>\n",
              "    <tr>\n",
              "      <th>Liar Liar</th>\n",
              "      <td>181410615</td>\n",
              "      <td>370330510</td>\n",
              "      <td>1997</td>\n",
              "    </tr>\n",
              "  </tbody>\n",
              "</table>\n",
              "<p>200 rows × 3 columns</p>\n",
              "</div>"
            ],
            "text/plain": [
              "                                        Gross   Gross_adj  Year\n",
              "Movie                                                          \n",
              "Gone with the Wind                  200852579  1895421694  1939\n",
              "Star Wars: Episode IV - A New Hope  460998507  1668979715  1977\n",
              "The Sound of Music                  159287539  1335086324  1965\n",
              "E.T. the Extra-Terrestrial          435110554  1329174791  1982\n",
              "Titanic                             659363944  1270101626  1997\n",
              "...                                       ...         ...   ...\n",
              "Patton                               61749765   373287682  1970\n",
              "Fatal Attraction                    156645693   371808159  1987\n",
              "Iron Man 2                          312433331   371691971  2010\n",
              "Zootopia                            341268248   371109157  2016\n",
              "Liar Liar                           181410615   370330510  1997\n",
              "\n",
              "[200 rows x 3 columns]"
            ]
          },
          "execution_count": 59,
          "metadata": {},
          "output_type": "execute_result"
        }
      ],
      "source": [
        "### Set the 'Movies' column as the index\n",
        "\n",
        "movies.set_index(\"Movie\")"
      ]
    },
    {
      "cell_type": "markdown",
      "metadata": {
        "id": "qwl2u9Bppmn1"
      },
      "source": [
        "Getting some statistic about the data"
      ]
    },
    {
      "cell_type": "code",
      "execution_count": 61,
      "metadata": {
        "id": "00o1Bumept8i"
      },
      "outputs": [
        {
          "data": {
            "text/plain": [
              "count    2.000000e+02\n",
              "mean     2.564920e+08\n",
              "std      1.705675e+08\n",
              "min      9.183673e+06\n",
              "25%      1.169264e+08\n",
              "50%      2.341963e+08\n",
              "75%      3.633033e+08\n",
              "max      9.366622e+08\n",
              "Name: Gross, dtype: float64"
            ]
          },
          "execution_count": 61,
          "metadata": {},
          "output_type": "execute_result"
        }
      ],
      "source": [
        "### Get some statistical information about the 'Gross' column\n",
        "\n",
        "movies[\"Gross\"].describe()"
      ]
    },
    {
      "cell_type": "code",
      "execution_count": 65,
      "metadata": {
        "id": "46hKwDutp0yD"
      },
      "outputs": [
        {
          "data": {
            "text/plain": [
              "np.float64(533060043.13793105)"
            ]
          },
          "execution_count": 65,
          "metadata": {},
          "output_type": "execute_result"
        }
      ],
      "source": [
        "### What is the average 'Gross (Adjusted)' value for Movies from the 1990s?\n",
        "\n",
        "average_gross = movies[(movies[\"Year\"]<2000) & (movies[\"Year\"] >= 1990)][\"Gross_adj\"].mean()\n",
        "average_gross"
      ]
    },
    {
      "cell_type": "code",
      "execution_count": 67,
      "metadata": {
        "id": "eg4AevDxF0_T"
      },
      "outputs": [
        {
          "data": {
            "text/plain": [
              "np.float64(227797683.4472427)"
            ]
          },
          "execution_count": 67,
          "metadata": {},
          "output_type": "execute_result"
        }
      ],
      "source": [
        "### What is the standard deviation of 'Gross (Adjusted)'?\n",
        "\n",
        "std_dev = movies[\"Gross_adj\"].std()\n",
        "std_dev"
      ]
    }
  ],
  "metadata": {
    "colab": {
      "provenance": []
    },
    "hide_input": false,
    "kernelspec": {
      "display_name": "base",
      "language": "python",
      "name": "python3"
    },
    "language_info": {
      "codemirror_mode": {
        "name": "ipython",
        "version": 3
      },
      "file_extension": ".py",
      "mimetype": "text/x-python",
      "name": "python",
      "nbconvert_exporter": "python",
      "pygments_lexer": "ipython3",
      "version": "3.12.2"
    },
    "toc": {
      "base_numbering": 1,
      "nav_menu": {},
      "number_sections": true,
      "sideBar": true,
      "skip_h1_title": false,
      "title_cell": "Table of Contents",
      "title_sidebar": "Contents",
      "toc_cell": false,
      "toc_position": {},
      "toc_section_display": true,
      "toc_window_display": false
    }
  },
  "nbformat": 4,
  "nbformat_minor": 0
}
