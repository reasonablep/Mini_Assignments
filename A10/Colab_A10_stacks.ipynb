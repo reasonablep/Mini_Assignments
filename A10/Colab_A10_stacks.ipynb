{
  "cells": [
    {
      "cell_type": "markdown",
      "metadata": {
        "id": "cP32wAV3Yi-4"
      },
      "source": [
        "##**Stack Questions**"
      ]
    },
    {
      "cell_type": "markdown",
      "metadata": {
        "id": "KqdNjm1oY_ss"
      },
      "source": [
        "## Question 1: Write a function to sort a stack."
      ]
    },
    {
      "cell_type": "code",
      "execution_count": 6,
      "metadata": {
        "id": "mb9K46p3Ym0N"
      },
      "outputs": [
        {
          "name": "stdout",
          "output_type": "stream",
          "text": [
            "[3, 23, 31, 34, 92, 98]\n"
          ]
        }
      ],
      "source": [
        "def sort_stack(stack):\n",
        "    \n",
        "# Create a temporary storage for stack elements\n",
        "\n",
        "    check_stack = []\n",
        "\n",
        "# Move an element from the check_stack back to stack if it is smaller than the temp element\n",
        "\n",
        "    while stack:\n",
        "        temp = stack.pop()\n",
        "\n",
        "        while check_stack and check_stack[-1] < temp:\n",
        "            stack.append(check_stack.pop())\n",
        "\n",
        "# Push temp into check_stack\n",
        "\n",
        "        check_stack.append(temp)\n",
        "\n",
        "# Move elements back to original stack\n",
        "\n",
        "    while check_stack:\n",
        "        stack.append(check_stack.pop())\n",
        "\n",
        "# Return sorted stack\n",
        "    return stack\n",
        "\n",
        "stack = [34, 3, 31, 98, 92, 23]\n",
        "print(sort_stack(stack))"
      ]
    },
    {
      "cell_type": "markdown",
      "metadata": {
        "id": "jFxb6ss_Whwl"
      },
      "source": [
        "## Question 2: Depict the following image as a list.\n",
        "\n",
        "<img src=\"https://miro.medium.com/max/1050/1*XifPIMxbamGKhz5UAEdz2w.png\">\n",
        "\n",
        "#### Queue\n",
        "1. Add the number 9 to the list.\n",
        "2. Remove the first number (7) from the list.\n",
        "\n",
        "#### Stack\n",
        "3. Add the number 4 to the same list.\n",
        "4. Remove the last number added (4) from the list."
      ]
    },
    {
      "cell_type": "code",
      "execution_count": 10,
      "metadata": {
        "id": "XOm7YLTEWhwm"
      },
      "outputs": [
        {
          "name": "stdout",
          "output_type": "stream",
          "text": [
            "[3, 1, 6, 8, 9]\n",
            "[7, 3, 1, 6, 8, 4]\n",
            "[7, 3, 1, 6, 8]\n"
          ]
        }
      ],
      "source": [
        "#Your Answer:\n",
        "\n",
        "# Queue behavior, first in first out\n",
        "\n",
        "lst = [7, 3, 1, 6, 8]\n",
        "\n",
        "lst.append(9)\n",
        "lst.pop(0)\n",
        "\n",
        "print(lst)\n",
        "\n",
        "# Stack behavior last in first out\n",
        "\n",
        "lst2 = [7, 3, 1, 6, 8]\n",
        "\n",
        "lst2.append(4)\n",
        "print(lst2)\n",
        "lst2.pop()\n",
        "print(lst2)"
      ]
    },
    {
      "cell_type": "markdown",
      "metadata": {
        "id": "tQ3kgHVtWhwn"
      },
      "source": [
        "#### Question 3: Nodes\n",
        "\n",
        "<img src=\"https://encrypted-tbn0.gstatic.com/images?q=tbn:ANd9GcQW8-twGk0hCILE-muHBnG93hZJh2Qvgs7pVA&s\">\n",
        "\n",
        "1. Use a data structure of your choice to denote the different nodes.\n",
        "\n",
        "2. Create a function that sums all of the \"children\". Test with the node 10 (Expected answer is 37).\n"
      ]
    },
    {
      "cell_type": "code",
      "execution_count": 43,
      "metadata": {
        "id": "UU0rjzjXWhwn"
      },
      "outputs": [
        {
          "name": "stdout",
          "output_type": "stream",
          "text": [
            "37\n"
          ]
        }
      ],
      "source": [
        "# Initialize a class Tree with class variables for tracking children\n",
        "\n",
        "class Tree:\n",
        "        def __init__(self, value, left=None, right=None):\n",
        "            self.value = value\n",
        "            self.left = left\n",
        "            self.right = right\n",
        "\n",
        "# Create tree structure\n",
        "\n",
        "root = Tree(8)\n",
        "\n",
        "left= Tree(3,\n",
        "            left = Tree(1),\n",
        "            right=Tree(6,\n",
        "                        left = Tree(4),\n",
        "                        right=Tree(7)\n",
        "                        )\n",
        "            )\n",
        "right=Tree(10,\n",
        "            right = Tree(14),\n",
        "            left = Tree(13)\n",
        "            )\n",
        "\n",
        "# Explicit assignment of left and right to the root\n",
        "\n",
        "root.left = left\n",
        "root.right = right\n",
        "\n",
        "\n",
        "# Function sums the sub tree of a given node\n",
        "\n",
        "def sum_tree(tree):\n",
        "        if not tree:\n",
        "            return 0\n",
        "        return tree.value + sum_tree(tree.left) + sum_tree(tree.right)\n",
        "\n",
        "# Call function and print results\n",
        "\n",
        "result = sum_tree(root.right)\n",
        "print(result)"
      ]
    },
    {
      "cell_type": "code",
      "execution_count": null,
      "metadata": {},
      "outputs": [],
      "source": []
    }
  ],
  "metadata": {
    "colab": {
      "provenance": []
    },
    "hide_input": false,
    "kernelspec": {
      "display_name": "venv",
      "language": "python",
      "name": "python3"
    },
    "language_info": {
      "codemirror_mode": {
        "name": "ipython",
        "version": 3
      },
      "file_extension": ".py",
      "mimetype": "text/x-python",
      "name": "python",
      "nbconvert_exporter": "python",
      "pygments_lexer": "ipython3",
      "version": "3.12.5"
    },
    "toc": {
      "base_numbering": 1,
      "nav_menu": {},
      "number_sections": true,
      "sideBar": true,
      "skip_h1_title": false,
      "title_cell": "Table of Contents",
      "title_sidebar": "Contents",
      "toc_cell": false,
      "toc_position": {},
      "toc_section_display": true,
      "toc_window_display": false
    }
  },
  "nbformat": 4,
  "nbformat_minor": 0
}
